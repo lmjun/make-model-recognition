{
  "nbformat": 4,
  "nbformat_minor": 0,
  "metadata": {
    "colab": {
      "provenance": [],
      "authorship_tag": "ABX9TyN5RiFkWlg80+tOD7rwZWql",
      "include_colab_link": true
    },
    "kernelspec": {
      "name": "python3",
      "display_name": "Python 3"
    },
    "language_info": {
      "name": "python"
    }
  },
  "cells": [
    {
      "cell_type": "markdown",
      "metadata": {
        "id": "view-in-github",
        "colab_type": "text"
      },
      "source": [
        "<a href=\"https://colab.research.google.com/github/lmjun/make-model-recognition/blob/main/make_model_recognition.ipynb\" target=\"_parent\"><img src=\"https://colab.research.google.com/assets/colab-badge.svg\" alt=\"Open In Colab\"/></a>"
      ]
    },
    {
      "cell_type": "code",
      "execution_count": 1,
      "metadata": {
        "colab": {
          "base_uri": "https://localhost:8080/"
        },
        "id": "dncbD2XAyOQb",
        "outputId": "2eb8efb2-c8d3-4e85-c229-2727021dcfad"
      },
      "outputs": [
        {
          "output_type": "stream",
          "name": "stdout",
          "text": [
            "Mounted at /content/drive\n"
          ]
        }
      ],
      "source": [
        "from google.colab import drive\n",
        "drive.mount('/content/drive')"
      ]
    },
    {
      "cell_type": "markdown",
      "source": [
        "**Testing 1-2-3**"
      ],
      "metadata": {
        "id": "aM8gw8Hh27Td"
      }
    },
    {
      "cell_type": "markdown",
      "source": [
        "\n",
        "1.   [Car Object Detection](https://www.kaggle.com/datasets/sshikamaru/car-object-detection?resource=download)\n",
        "2.   [VMMRdb](https://github.com/faezetta/VMMRdb)\n",
        "3.   [Stanford Cars](https://www.kaggle.com/datasets/jessicali9530/stanford-cars-dataset)\n",
        "\n"
      ],
      "metadata": {
        "id": "_sPl_Sam29yh"
      }
    },
    {
      "cell_type": "code",
      "source": [],
      "metadata": {
        "id": "r4-0hA3j_QB4"
      },
      "execution_count": null,
      "outputs": []
    }
  ]
}